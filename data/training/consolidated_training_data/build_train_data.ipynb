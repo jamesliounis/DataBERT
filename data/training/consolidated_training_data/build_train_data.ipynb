{
 "cells": [
  {
   "cell_type": "code",
   "execution_count": 1,
   "metadata": {},
   "outputs": [],
   "source": [
    "import pandas as pd\n",
    "from datasets import load_dataset"
   ]
  },
  {
   "cell_type": "code",
   "execution_count": 2,
   "metadata": {},
   "outputs": [
    {
     "data": {
      "text/html": [
       "<div>\n",
       "<style scoped>\n",
       "    .dataframe tbody tr th:only-of-type {\n",
       "        vertical-align: middle;\n",
       "    }\n",
       "\n",
       "    .dataframe tbody tr th {\n",
       "        vertical-align: top;\n",
       "    }\n",
       "\n",
       "    .dataframe thead th {\n",
       "        text-align: right;\n",
       "    }\n",
       "</style>\n",
       "<table border=\"1\" class=\"dataframe\">\n",
       "  <thead>\n",
       "    <tr style=\"text-align: right;\">\n",
       "      <th></th>\n",
       "      <th>Unnamed: 0</th>\n",
       "      <th>text</th>\n",
       "      <th>label</th>\n",
       "      <th>data_origin</th>\n",
       "    </tr>\n",
       "  </thead>\n",
       "  <tbody>\n",
       "    <tr>\n",
       "      <th>0</th>\n",
       "      <td>0</td>\n",
       "      <td>We analyze the relationship between climate ch...</td>\n",
       "      <td>1</td>\n",
       "      <td>GPT-generated data (old)</td>\n",
       "    </tr>\n",
       "    <tr>\n",
       "      <th>1</th>\n",
       "      <td>1</td>\n",
       "      <td>Using a dataset from the World Trade Organizat...</td>\n",
       "      <td>1</td>\n",
       "      <td>GPT-generated data (old)</td>\n",
       "    </tr>\n",
       "    <tr>\n",
       "      <th>2</th>\n",
       "      <td>2</td>\n",
       "      <td>This study examines the impact of school-based...</td>\n",
       "      <td>1</td>\n",
       "      <td>GPT-generated data (old)</td>\n",
       "    </tr>\n",
       "    <tr>\n",
       "      <th>3</th>\n",
       "      <td>3</td>\n",
       "      <td>We explore the impact of electricity access on...</td>\n",
       "      <td>1</td>\n",
       "      <td>GPT-generated data (old)</td>\n",
       "    </tr>\n",
       "    <tr>\n",
       "      <th>4</th>\n",
       "      <td>4</td>\n",
       "      <td>To investigate the relationship between social...</td>\n",
       "      <td>1</td>\n",
       "      <td>GPT-generated data (old)</td>\n",
       "    </tr>\n",
       "  </tbody>\n",
       "</table>\n",
       "</div>"
      ],
      "text/plain": [
       "   Unnamed: 0                                               text  label  \\\n",
       "0           0  We analyze the relationship between climate ch...      1   \n",
       "1           1  Using a dataset from the World Trade Organizat...      1   \n",
       "2           2  This study examines the impact of school-based...      1   \n",
       "3           3  We explore the impact of electricity access on...      1   \n",
       "4           4  To investigate the relationship between social...      1   \n",
       "\n",
       "                data_origin  \n",
       "0  GPT-generated data (old)  \n",
       "1  GPT-generated data (old)  \n",
       "2  GPT-generated data (old)  \n",
       "3  GPT-generated data (old)  \n",
       "4  GPT-generated data (old)  "
      ]
     },
     "execution_count": 2,
     "metadata": {},
     "output_type": "execute_result"
    }
   ],
   "source": [
    "original_train = pd.read_csv(\"/Users/jamesliounis/Documents/Projects/World Bank/NLP Project/data-use/data/training/consolidated_training_data/train_final_multiple_sources.csv\")\n",
    "original_train.head()"
   ]
  },
  {
   "cell_type": "code",
   "execution_count": 3,
   "metadata": {},
   "outputs": [
    {
     "name": "stdout",
     "output_type": "stream",
     "text": [
      "(407, 3)\n",
      "(10000, 3)\n",
      "(1391, 3)\n",
      "(144, 3)\n",
      "(455, 3)\n"
     ]
    }
   ],
   "source": [
    "train_eval_fb = pd.read_json(\"/Users/jamesliounis/Documents/Projects/World Bank/NLP Project/data-use/data/training/guardrails/negative/train_eval_feedback_negative.json\")\n",
    "train_eval_fb.rename(columns={0:\"text\"}, inplace=True)\n",
    "train_eval_fb['label'] = 0\n",
    "train_eval_fb['data_origin'] = \"GPT 3.5: first iteration feedback - negative samples\"\n",
    "\n",
    "email_url = pd.read_json(\"/Users/jamesliounis/Documents/Projects/World Bank/NLP Project/data-use/data/training/guardrails/negative/emails_and_urls.json\")\n",
    "email_url.rename(columns={0:\"text\"}, inplace=True)\n",
    "email_url['label'] = 0\n",
    "email_url['data_origin'] = \"GPT 3.5: email and URL guardrail - negative samples\"\n",
    "\n",
    "paper_names = pd.read_json(\"/Users/jamesliounis/Documents/Projects/World Bank/NLP Project/data-use/data/training/guardrails/negative/paper_names.json\")\n",
    "paper_names.rename(columns={0:\"text\"}, inplace=True)\n",
    "paper_names['label'] = 0\n",
    "paper_names['data_origin'] = \"GPT 3.5: paper names and research context guardrail\"\n",
    "\n",
    "train_eval_fb_positive = pd.read_json(\"/Users/jamesliounis/Documents/Projects/World Bank/NLP Project/data-use/data/training/guardrails/positive/train_eval_feedback.json\")\n",
    "train_eval_fb_positive.rename(columns={0:\"text\"}, inplace=True)\n",
    "train_eval_fb_positive['label'] = 1\n",
    "train_eval_fb_positive['data_origin'] = \"GPT 3.5: first iteration feedback - positive samples\"\n",
    "\n",
    "email_url_positive = pd.read_json(\"/Users/jamesliounis/Documents/Projects/World Bank/NLP Project/data-use/data/training/guardrails/positive/emails_and_urls.json\")\n",
    "email_url_positive.rename(columns={0:\"text\"}, inplace=True)\n",
    "email_url_positive['label'] = 1\n",
    "email_url_positive['data_origin'] = \"GPT 3.5: email and URL guardrail - positive samples\"\n",
    "\n",
    "print(train_eval_fb.shape)\n",
    "print(email_url.shape)\n",
    "print(paper_names.shape)\n",
    "print(train_eval_fb_positive.shape)\n",
    "print(email_url_positive.shape)\n"
   ]
  },
  {
   "cell_type": "code",
   "execution_count": 19,
   "metadata": {},
   "outputs": [
    {
     "data": {
      "text/plain": [
       "(8353, 4)"
      ]
     },
     "execution_count": 19,
     "metadata": {},
     "output_type": "execute_result"
    }
   ],
   "source": [
    "original_train['label'].value_counts()\n",
    "original_train['data_origin'].value_counts()\n",
    "\n",
    "original_train_real = original_train.query('data_origin.str.startswith(\"Coleridge\") == True')\n",
    "original_train_synthetic = original_train.query('data_origin.str.startswith(\"Coleridge\") == False')\n",
    "original_train_synthetic.shape"
   ]
  },
  {
   "cell_type": "code",
   "execution_count": 40,
   "metadata": {},
   "outputs": [
    {
     "data": {
      "text/html": [
       "<div>\n",
       "<style scoped>\n",
       "    .dataframe tbody tr th:only-of-type {\n",
       "        vertical-align: middle;\n",
       "    }\n",
       "\n",
       "    .dataframe tbody tr th {\n",
       "        vertical-align: top;\n",
       "    }\n",
       "\n",
       "    .dataframe thead th {\n",
       "        text-align: right;\n",
       "    }\n",
       "</style>\n",
       "<table border=\"1\" class=\"dataframe\">\n",
       "  <thead>\n",
       "    <tr style=\"text-align: right;\">\n",
       "      <th></th>\n",
       "      <th>text</th>\n",
       "      <th>label</th>\n",
       "      <th>data_origin</th>\n",
       "    </tr>\n",
       "  </thead>\n",
       "  <tbody>\n",
       "    <tr>\n",
       "      <th>0</th>\n",
       "      <td>This study investigates the impact of market v...</td>\n",
       "      <td>0</td>\n",
       "      <td>GPT 3.5: paper names and research context guar...</td>\n",
       "    </tr>\n",
       "    <tr>\n",
       "      <th>1</th>\n",
       "      <td>The paper by Johnson et al. explores the effec...</td>\n",
       "      <td>0</td>\n",
       "      <td>GPT 3.5: paper names and research context guar...</td>\n",
       "    </tr>\n",
       "    <tr>\n",
       "      <th>2</th>\n",
       "      <td>In their research, Brown et al. analyze the re...</td>\n",
       "      <td>0</td>\n",
       "      <td>GPT 3.5: paper names and research context guar...</td>\n",
       "    </tr>\n",
       "    <tr>\n",
       "      <th>3</th>\n",
       "      <td>The study by Martinez et al. examines the effe...</td>\n",
       "      <td>0</td>\n",
       "      <td>GPT 3.5: paper names and research context guar...</td>\n",
       "    </tr>\n",
       "    <tr>\n",
       "      <th>4</th>\n",
       "      <td>Jones et al. discuss the role of social media ...</td>\n",
       "      <td>0</td>\n",
       "      <td>GPT 3.5: paper names and research context guar...</td>\n",
       "    </tr>\n",
       "  </tbody>\n",
       "</table>\n",
       "</div>"
      ],
      "text/plain": [
       "                                                text  label  \\\n",
       "0  This study investigates the impact of market v...      0   \n",
       "1  The paper by Johnson et al. explores the effec...      0   \n",
       "2  In their research, Brown et al. analyze the re...      0   \n",
       "3  The study by Martinez et al. examines the effe...      0   \n",
       "4  Jones et al. discuss the role of social media ...      0   \n",
       "\n",
       "                                         data_origin  \n",
       "0  GPT 3.5: paper names and research context guar...  \n",
       "1  GPT 3.5: paper names and research context guar...  \n",
       "2  GPT 3.5: paper names and research context guar...  \n",
       "3  GPT 3.5: paper names and research context guar...  \n",
       "4  GPT 3.5: paper names and research context guar...  "
      ]
     },
     "execution_count": 40,
     "metadata": {},
     "output_type": "execute_result"
    }
   ],
   "source": [
    "paper_names.head()"
   ]
  },
  {
   "cell_type": "code",
   "execution_count": 60,
   "metadata": {},
   "outputs": [
    {
     "data": {
      "text/plain": [
       "(1391, 3)"
      ]
     },
     "execution_count": 60,
     "metadata": {},
     "output_type": "execute_result"
    }
   ],
   "source": [
    "paper_names.shape"
   ]
  },
  {
   "cell_type": "code",
   "execution_count": 69,
   "metadata": {},
   "outputs": [],
   "source": [
    "# Creating training data\n",
    "\n",
    "train_data_dfs = [original_train_synthetic, \n",
    "                  train_eval_fb_positive, \n",
    "                  email_url_positive.head(455), \n",
    "                  train_eval_fb, \n",
    "                  email_url.head(2000),\n",
    "                  paper_names.head(1391)\n",
    "                  ]\n",
    "\n",
    "train_data = pd.concat(train_data_dfs, ignore_index=True)\n",
    "\n",
    "# Create val data\n",
    "\n",
    "# Positive and negative val data\n",
    "pos = original_train_real.query('label==1')\n",
    "neg = original_train_real.query('label==0').head(4467)\n",
    "papers = paper_names.tail(0)\n",
    "email_url_pos = email_url_positive.tail(0)\n",
    "\n",
    "val_data = pd.concat([pos,neg, papers, email_url_pos], ignore_index=True)\n",
    "\n",
    "\n",
    "save_path = \"/Users/jamesliounis/Documents/Projects/World Bank/NLP Project/data-use/data/training/consolidated_training_data/\"\n",
    "train_data.to_excel(save_path + \"train_data_v2.xlsx\")\n",
    "val_data.to_excel(save_path + \"val_data_v2.xlsx\")\n"
   ]
  },
  {
   "cell_type": "code",
   "execution_count": 29,
   "metadata": {},
   "outputs": [
    {
     "data": {
      "text/plain": [
       "Generated with GPT-3.5-Turbo                            3666\n",
       "Generated with Llama-70B - Temperature=0.5              2108\n",
       "GPT 3.5: email and URL guardrail - negative samples     2000\n",
       "GPT-generated data (old)                                1986\n",
       "GPT 3.5: paper names and research context guardrail     1391\n",
       "GPT 3.5: email and URL guardrail - positive samples      455\n",
       "GPT 3.5: first iteration feedback - negative samples     407\n",
       "Mixtral-7B - temperature=0                               254\n",
       "Mixtral-7B - temperature=0.5                             254\n",
       "GPT 3.5: first iteration feedback - positive samples     144\n",
       "Generated with GPT-4                                      85\n",
       "Name: data_origin, dtype: int64"
      ]
     },
     "execution_count": 29,
     "metadata": {},
     "output_type": "execute_result"
    }
   ],
   "source": [
    "train_data['data_origin'].value_counts("
   ]
  },
  {
   "cell_type": "code",
   "execution_count": 37,
   "metadata": {},
   "outputs": [
    {
     "data": {
      "text/plain": [
       "'The paper by Johnson et al. explores the effects of climate change on agricultural production.'"
      ]
     },
     "execution_count": 37,
     "metadata": {},
     "output_type": "execute_result"
    }
   ],
   "source": [
    "train_data.query(\"data_origin =='GPT 3.5: paper names and research context guardrail'\")['text'].to_list()[1]"
   ]
  },
  {
   "cell_type": "markdown",
   "metadata": {},
   "source": [
    "# Building Training and Validation Data"
   ]
  },
  {
   "cell_type": "code",
   "execution_count": 70,
   "metadata": {},
   "outputs": [
    {
     "data": {
      "text/plain": [
       "0    4467\n",
       "1     254\n",
       "Name: label, dtype: int64"
      ]
     },
     "execution_count": 70,
     "metadata": {},
     "output_type": "execute_result"
    }
   ],
   "source": [
    "val_data['label'].value_counts()"
   ]
  },
  {
   "cell_type": "code",
   "execution_count": 71,
   "metadata": {},
   "outputs": [
    {
     "data": {
      "text/plain": [
       "1    8952\n",
       "0    3798\n",
       "Name: label, dtype: int64"
      ]
     },
     "execution_count": 71,
     "metadata": {},
     "output_type": "execute_result"
    }
   ],
   "source": [
    "train_data['label'].value_counts()"
   ]
  },
  {
   "cell_type": "code",
   "execution_count": 66,
   "metadata": {},
   "outputs": [
    {
     "data": {
      "text/plain": [
       "(6663, 4)"
      ]
     },
     "execution_count": 66,
     "metadata": {},
     "output_type": "execute_result"
    }
   ],
   "source": [
    "original_train_real.query('label == 0').shape"
   ]
  },
  {
   "cell_type": "code",
   "execution_count": 67,
   "metadata": {},
   "outputs": [
    {
     "data": {
      "text/plain": [
       "(12750, 4)"
      ]
     },
     "execution_count": 67,
     "metadata": {},
     "output_type": "execute_result"
    }
   ],
   "source": [
    "train_data.shape"
   ]
  },
  {
   "cell_type": "code",
   "execution_count": 68,
   "metadata": {},
   "outputs": [
    {
     "data": {
      "text/plain": [
       "(2580, 4)"
      ]
     },
     "execution_count": 68,
     "metadata": {},
     "output_type": "execute_result"
    }
   ],
   "source": [
    "val_data.shape"
   ]
  },
  {
   "cell_type": "code",
   "execution_count": null,
   "metadata": {},
   "outputs": [],
   "source": []
  }
 ],
 "metadata": {
  "kernelspec": {
   "display_name": "base",
   "language": "python",
   "name": "python3"
  },
  "language_info": {
   "codemirror_mode": {
    "name": "ipython",
    "version": 3
   },
   "file_extension": ".py",
   "mimetype": "text/x-python",
   "name": "python",
   "nbconvert_exporter": "python",
   "pygments_lexer": "ipython3",
   "version": "3.9.15"
  },
  "orig_nbformat": 4
 },
 "nbformat": 4,
 "nbformat_minor": 2
}
